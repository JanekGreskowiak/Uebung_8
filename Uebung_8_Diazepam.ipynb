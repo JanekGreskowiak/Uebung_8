{
 "cells": [
  {
   "cell_type": "code",
   "execution_count": 25,
   "metadata": {},
   "outputs": [
    {
     "data": {
      "image/png": "[encoded data removed]",
      "text/plain": [
       "<Figure size 432x288 with 1 Axes>"
      ]
     },
     "metadata": {
      "needs_background": "light"
     },
     "output_type": "display_data"
    }
   ],
   "source": [
    "import matplotlib.pyplot as plt\n",
    "import numpy as np\n",
    "from scipy.special import erfc\n",
    "\n",
    "tracer=np.loadtxt('Tracer.txt',skiprows=1) # Daten\n",
    "diaz=np.loadtxt('Diazepam.txt',skiprows=1) # Daten\n",
    "\n",
    "x=0.3 # Laenge der Saeule in m\n",
    "t=np.arange(0.1,200.0,1) # Zeit in Stunden\n",
    "C0=1.0 # C/C0, Normalisierte Konzentration am Eingang \n",
    "\n",
    "## Anpassungsparameter\n",
    "v=1e-3 # Abstandsgeschwindogkeit m/h \n",
    "D=1.0e-6 # Dispersionskoeffizent m2/h\n",
    "R=1.0 # Retardationsfaktor\n",
    "\n",
    "# Analytische Loesung \n",
    "C_tracer=C0*0.5*erfc((1.0*x-v*t)/(2*np.sqrt(D*1.0*t)))\n",
    "C_diaz=C0*0.5*erfc((R*x-v*t)/(2*np.sqrt(D*R*t)))\n",
    "\n",
    "plt.figure()\n",
    "plt.plot(tracer[:,0],tracer[:,2],'ro')\n",
    "plt.plot(t,C_tracer,'r',lw=3,label='Tracer')\n",
    "plt.plot(diaz[:,0],diaz[:,2],'bo')\n",
    "plt.plot(t,C_diaz,'b--',lw=1,label='Diazepam')\n",
    "plt.xlim([0,200]);plt.xlabel('Zeit in Stunden')\n",
    "plt.ylabel('C/C0');plt.legend(loc=4); plt.show()"
   ]
  },
  {
   "cell_type": "code",
   "execution_count": null,
   "metadata": {},
   "outputs": [],
   "source": []
  }
 ],
 "metadata": {
  "celltoolbar": "Raw Cell Format",
  "kernelspec": {
   "display_name": "Python 3",
   "language": "python",
   "name": "python3"
  },
  "language_info": {
   "codemirror_mode": {
    "name": "ipython",
    "version": 3
   },
   "file_extension": ".py",
   "mimetype": "text/x-python",
   "name": "python",
   "nbconvert_exporter": "python",
   "pygments_lexer": "ipython3",
   "version": "3.8.5"
  }
 },
 "nbformat": 4,
 "nbformat_minor": 1
}
